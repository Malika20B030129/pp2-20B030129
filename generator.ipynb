{
 "cells": [
  {
   "cell_type": "code",
   "execution_count": 26,
   "id": "11ceefbd",
   "metadata": {},
   "outputs": [
    {
     "name": "stdout",
     "output_type": "stream",
     "text": [
      "5\n",
      "0\n",
      "1\n",
      "4\n"
     ]
    }
   ],
   "source": [
    "def sqr(n):\n",
    "    i=0\n",
    "    while i<=n:\n",
    "        yield i**2\n",
    "        i+=1\n",
    "a=int(input())\n",
    "res=sqr(a)\n",
    "print (next(res))\n",
    "print (next(res))\n",
    "print (next(res))"
   ]
  },
  {
   "cell_type": "code",
   "execution_count": 13,
   "id": "29dabca9",
   "metadata": {},
   "outputs": [
    {
     "name": "stdout",
     "output_type": "stream",
     "text": [
      "10\n",
      "0,2,4,6,8,10\n"
     ]
    }
   ],
   "source": [
    "def even(n):\n",
    "    i=0\n",
    "    while i<=n:\n",
    "        if i%2==0:\n",
    "            yield i\n",
    "        i+=1\n",
    "a=int(input())\n",
    "l=[]\n",
    "for i in even(a):\n",
    "    l.append(str(i))\n",
    "\n",
    "print (','.join(l))"
   ]
  },
  {
   "cell_type": "code",
   "execution_count": 28,
   "id": "41f80946",
   "metadata": {},
   "outputs": [
    {
     "name": "stdout",
     "output_type": "stream",
     "text": [
      "24\n",
      "0 12 24\n"
     ]
    }
   ],
   "source": [
    "def div(n):\n",
    "    i=0\n",
    "    while i<=n:\n",
    "        if i%3==0 and i%4==0:\n",
    "            yield i\n",
    "        i+=1\n",
    "a=int(input())\n",
    "l=[]\n",
    "for i in div(a):\n",
    "    l.append(str(i))\n",
    "\n",
    "print (' '.join(l))"
   ]
  },
  {
   "cell_type": "code",
   "execution_count": 22,
   "id": "cfed47bb",
   "metadata": {},
   "outputs": [
    {
     "name": "stdout",
     "output_type": "stream",
     "text": [
      "10\n",
      "10 9 8 7 6 5 4 3 2 1 0\n"
     ]
    }
   ],
   "source": [
    "def down(n):\n",
    "    while n>=0:\n",
    "        yield n\n",
    "        n-=1\n",
    "b=int(input())\n",
    "res=[]\n",
    "for i in down(b):\n",
    "    res.append(str(i))\n",
    "\n",
    "print (' '.join(res))"
   ]
  },
  {
   "cell_type": "code",
   "execution_count": 29,
   "id": "d7ca37bc",
   "metadata": {},
   "outputs": [
    {
     "name": "stdout",
     "output_type": "stream",
     "text": [
      "1\n",
      "5\n",
      "1\n",
      "4\n",
      "9\n",
      "16\n",
      "25\n"
     ]
    }
   ],
   "source": [
    "def squares(a,b):\n",
    "    while a<=b:\n",
    "        yield a**2\n",
    "        a+=1\n",
    "x=int(input())\n",
    "y=int(input())\n",
    "for i in squares(x,y):\n",
    "    print(i)"
   ]
  },
  {
   "cell_type": "code",
   "execution_count": null,
   "id": "b9df7e1e",
   "metadata": {},
   "outputs": [],
   "source": []
  }
 ],
 "metadata": {
  "kernelspec": {
   "display_name": "Python 3 (ipykernel)",
   "language": "python",
   "name": "python3"
  },
  "language_info": {
   "codemirror_mode": {
    "name": "ipython",
    "version": 3
   },
   "file_extension": ".py",
   "mimetype": "text/x-python",
   "name": "python",
   "nbconvert_exporter": "python",
   "pygments_lexer": "ipython3",
   "version": "3.9.13"
  }
 },
 "nbformat": 4,
 "nbformat_minor": 5
}
