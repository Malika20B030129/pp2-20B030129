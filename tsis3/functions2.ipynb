{
 "cells": [
  {
   "cell_type": "code",
   "execution_count": 10,
   "id": "98693e5e",
   "metadata": {},
   "outputs": [
    {
     "name": "stdout",
     "output_type": "stream",
     "text": [
      "False\n"
     ]
    }
   ],
   "source": [
    "movies = [\n",
    "{\"name\": \"Usual Suspects\", \n",
    "\"imdb\": 7.0,\n",
    "\"category\": \"Thriller\"},\n",
    "    \n",
    "{\"name\": \"Hitman\",\n",
    "\"imdb\": 6.3,\n",
    "\"category\": \"Action\"},\n",
    "    \n",
    "{\"name\": \"Dark Knight\",\n",
    "\"imdb\": 9.0,\n",
    "\"category\": \"Adventure\"},\n",
    "    \n",
    "{\"name\": \"The Help\",\n",
    "\"imdb\": 8.0,\n",
    "\"category\": \"Drama\"},\n",
    "    \n",
    "{\"name\": \"The Choice\",\n",
    "\"imdb\": 6.2,\n",
    "\"category\": \"Romance\"},\n",
    "    \n",
    "{\"name\": \"Colonia\",\n",
    "\"imdb\": 7.4,\n",
    "\"category\": \"Romance\"},\n",
    "    \n",
    "{\"name\": \"Love\",\n",
    "\"imdb\": 6.0,\n",
    "\"category\": \"Romance\"},\n",
    "    \n",
    "{\"name\": \"Bride Wars\",\n",
    "\"imdb\": 5.4,\n",
    "\"category\": \"Romance\"},\n",
    "    \n",
    "{\"name\": \"AlphaJet\",\n",
    "\"imdb\": 3.2,\n",
    "\"category\": \"War\"},\n",
    "    \n",
    "{\"name\": \"Ringing Crime\",\n",
    "\"imdb\": 4.0,\n",
    "\"category\": \"Crime\"},\n",
    "    \n",
    "{\"name\": \"Joking muck\",\n",
    "\"imdb\": 7.2,\n",
    "\"category\": \"Comedy\"},\n",
    "    \n",
    "{\"name\": \"What is the name\",\n",
    "\"imdb\": 9.2,\n",
    "\"category\": \"Suspense\"},\n",
    "    \n",
    "{\"name\": \"Detective\",\n",
    "\"imdb\": 7.0,\n",
    "\"category\": \"Suspense\"},\n",
    "    \n",
    "{\"name\": \"Exam\",\n",
    "\"imdb\": 4.2,\n",
    "\"category\": \"Thriller\"},\n",
    "    \n",
    "{\"name\": \"We Two\",\n",
    "\"imdb\": 7.2,\n",
    "\"category\": \"Romance\"}\n",
    "]\n",
    "def IMDB(d):\n",
    "        if d['imdb']>5.5:\n",
    "            print(\"True\")\n",
    "        else: print(\"False\")\n",
    "IMDB(movies[7])"
   ]
  },
  {
   "cell_type": "code",
   "execution_count": 14,
   "id": "6a47beef",
   "metadata": {},
   "outputs": [
    {
     "name": "stdout",
     "output_type": "stream",
     "text": [
      "[{'name': 'Usual Suspects', 'imdb': 7.0, 'category': 'Thriller'}, {'name': 'Hitman', 'imdb': 6.3, 'category': 'Action'}, {'name': 'Dark Knight', 'imdb': 9.0, 'category': 'Adventure'}, {'name': 'The Help', 'imdb': 8.0, 'category': 'Drama'}, {'name': 'The Choice', 'imdb': 6.2, 'category': 'Romance'}, {'name': 'Colonia', 'imdb': 7.4, 'category': 'Romance'}, {'name': 'Love', 'imdb': 6.0, 'category': 'Romance'}, {'name': 'Joking muck', 'imdb': 7.2, 'category': 'Comedy'}, {'name': 'What is the name', 'imdb': 9.2, 'category': 'Suspense'}, {'name': 'Detective', 'imdb': 7.0, 'category': 'Suspense'}, {'name': 'We Two', 'imdb': 7.2, 'category': 'Romance'}]\n"
     ]
    }
   ],
   "source": [
    "def subl(d):\n",
    "    res=[]\n",
    "    for i in range(0, len(d)):\n",
    "        new=d[i]\n",
    "        if new['imdb']>5.5:\n",
    "            res.append(new)\n",
    "    return res\n",
    "print(subl(movies))"
   ]
  },
  {
   "cell_type": "code",
   "execution_count": 16,
   "id": "1e110411",
   "metadata": {},
   "outputs": [
    {
     "name": "stdout",
     "output_type": "stream",
     "text": [
      "Comedy\n",
      "[{'name': 'Joking muck', 'imdb': 7.2, 'category': 'Comedy'}]\n"
     ]
    }
   ],
   "source": [
    "def category(d,s):\n",
    "    l=[]\n",
    "    for i in range(len(d)):\n",
    "        movie=d[i]\n",
    "        if movie['category']==s:\n",
    "            l.append(movie)\n",
    "    return l\n",
    "s=input()\n",
    "print(category(movies,s))"
   ]
  },
  {
   "cell_type": "code",
   "execution_count": 28,
   "id": "943dbf97",
   "metadata": {},
   "outputs": [
    {
     "name": "stdout",
     "output_type": "stream",
     "text": [
      "6.486666666666667\n"
     ]
    }
   ],
   "source": [
    "def average(d):\n",
    "    av=0\n",
    "    cnt=0\n",
    "    for i in range(len(d)):\n",
    "        movie=d[i]\n",
    "        if movie['imdb']:\n",
    "            cnt+=float(movie['imdb'])\n",
    "            av=cnt/len(d)\n",
    "    return av\n",
    "print(average(movies))"
   ]
  },
  {
   "cell_type": "code",
   "execution_count": 35,
   "id": "c07ebb0d",
   "metadata": {},
   "outputs": [
    {
     "name": "stdout",
     "output_type": "stream",
     "text": [
      "Thriller\n",
      "5.6\n"
     ]
    }
   ],
   "source": [
    "def average_ct(d,s):\n",
    "    av=0\n",
    "    cnt=0\n",
    "    cnt1=0\n",
    "    for i in range(len(d)):\n",
    "        movie=d[i]\n",
    "        if movie['category']==s:\n",
    "            cnt+=1\n",
    "            cnt1+=float(movie['imdb'])\n",
    "            av=cnt1/cnt\n",
    "    return av\n",
    "s=input()\n",
    "print(average_ct(movies,s))"
   ]
  },
  {
   "cell_type": "code",
   "execution_count": null,
   "id": "ba5cb31f",
   "metadata": {},
   "outputs": [],
   "source": []
  }
 ],
 "metadata": {
  "kernelspec": {
   "display_name": "Python 3 (ipykernel)",
   "language": "python",
   "name": "python3"
  },
  "language_info": {
   "codemirror_mode": {
    "name": "ipython",
    "version": 3
   },
   "file_extension": ".py",
   "mimetype": "text/x-python",
   "name": "python",
   "nbconvert_exporter": "python",
   "pygments_lexer": "ipython3",
   "version": "3.9.13"
  }
 },
 "nbformat": 4,
 "nbformat_minor": 5
}
