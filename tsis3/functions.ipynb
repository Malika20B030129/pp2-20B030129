{
 "cells": [
  {
   "cell_type": "code",
   "execution_count": 12,
   "id": "920f6ccd",
   "metadata": {},
   "outputs": [
    {
     "name": "stdout",
     "output_type": "stream",
     "text": [
      "5\n",
      "141.7476155\n"
     ]
    }
   ],
   "source": [
    "\n",
    "def gr(gram):\n",
    "    ounces = 28.3495231 * gram\n",
    "    print(ounces)\n",
    "gram=int(input())\n",
    "gr(gram)"
   ]
  },
  {
   "cell_type": "code",
   "execution_count": 9,
   "id": "3a2ad460",
   "metadata": {},
   "outputs": [
    {
     "name": "stdout",
     "output_type": "stream",
     "text": [
      "5\n",
      "141.7476155\n"
     ]
    }
   ],
   "source": [
    "gram1=int(input())\n",
    "ounces_func= lambda gram1: gram1*28.3495231\n",
    "print(ounces_func(gram1))"
   ]
  },
  {
   "cell_type": "code",
   "execution_count": 14,
   "id": "be8d573e",
   "metadata": {
    "scrolled": true
   },
   "outputs": [
    {
     "name": "stdout",
     "output_type": "stream",
     "text": [
      "40\n",
      "4.444444444444445\n"
     ]
    }
   ],
   "source": [
    "def temp(F):\n",
    "    C = (5 / 9) * (F-32)\n",
    "    print(C)\n",
    "F=int(input())\n",
    "temp(F)\n"
   ]
  },
  {
   "cell_type": "code",
   "execution_count": 18,
   "id": "62b92cf0",
   "metadata": {},
   "outputs": [
    {
     "name": "stdout",
     "output_type": "stream",
     "text": [
      "23.0 12.0\n"
     ]
    }
   ],
   "source": [
    "def solve(numheads, numlegs):\n",
    "    y=numlegs/2-numheads\n",
    "    x=numheads-y\n",
    "    print(x, y)\n",
    "solve(35,94)"
   ]
  },
  {
   "cell_type": "code",
   "execution_count": 3,
   "id": "ebfe48f9",
   "metadata": {},
   "outputs": [
    {
     "name": "stdout",
     "output_type": "stream",
     "text": [
      "2\n",
      "3\n",
      "5\n"
     ]
    }
   ],
   "source": [
    "def filter_prime(a):\n",
    "    k=0\n",
    "    if a<2:\n",
    "        return False\n",
    "    for i in range(2, a // 2+1):\n",
    "        \n",
    "        if (a % i == 0):\n",
    "            k = k+1\n",
    "    if (k <= 0):\n",
    "        return True\n",
    "    else:\n",
    "        return False\n",
    "my=[1,2,3,4,5]\n",
    "for i in my:\n",
    "    if filter_prime(i)==True:\n",
    "        print(i)\n",
    "#l = []\n",
    "  \n",
    "#n = int(input())\n",
    "  \n",
    "#for i in range(0, n):\n",
    " #   ele = int(input())\n",
    "  #  l.append(ele) \n",
    "#for i in l:\n",
    " #   if filter_prime(i)==True:\n",
    "  #      print(i)\n"
   ]
  },
  {
   "cell_type": "markdown",
   "id": "496a74c3",
   "metadata": {},
   "source": []
  },
  {
   "cell_type": "code",
   "execution_count": 8,
   "id": "f49b30f4",
   "metadata": {},
   "outputs": [
    {
     "name": "stdout",
     "output_type": "stream",
     "text": [
      "abc\n",
      "['abc', 'acb', 'bac', 'bca', 'cba', 'cab']\n"
     ]
    }
   ],
   "source": [
    "s=input()\n",
    "res=[]\n",
    "def permute(str1,i):\n",
    "    if i==len(str1):\n",
    "        res.append(''.join(str1))\n",
    "    else:\n",
    "        for j in range(i, len(str1)):\n",
    "            str1[i],str1[j]=str1[j],str1[i]\n",
    "            permute(str1,i+1)\n",
    "            str1[i],str1[j]=str1[j],str1[i]\n",
    "\n",
    "permute(list(s), 0)\n",
    "print(str(res))"
   ]
  },
  {
   "cell_type": "code",
   "execution_count": 15,
   "id": "ed886e0c",
   "metadata": {},
   "outputs": [
    {
     "name": "stdout",
     "output_type": "stream",
     "text": [
      "my name is Malika\n"
     ]
    },
    {
     "data": {
      "text/plain": [
       "'Malika is name my'"
      ]
     },
     "execution_count": 15,
     "metadata": {},
     "output_type": "execute_result"
    }
   ],
   "source": [
    "def rev(str1):\n",
    "    w=s.split(' ')\n",
    "    string=[]\n",
    "    for i in w:\n",
    "        string.insert(0,i)\n",
    "    return \" \".join(string)\n",
    "s=input()\n",
    "rev(s)"
   ]
  },
  {
   "cell_type": "code",
   "execution_count": 22,
   "id": "ba57b5c8",
   "metadata": {},
   "outputs": [
    {
     "name": "stdout",
     "output_type": "stream",
     "text": [
      "3\n",
      "1\n",
      "3\n",
      "2\n"
     ]
    },
    {
     "data": {
      "text/plain": [
       "False"
      ]
     },
     "execution_count": 22,
     "metadata": {},
     "output_type": "execute_result"
    }
   ],
   "source": [
    "def has33(nums):\n",
    "    for i in range(len(nums)-1):\n",
    "        if nums[i] == 3 and nums[i+1] == 3:\n",
    "            return True\n",
    "    return False\n",
    "n=int(input())\n",
    "l=[]\n",
    "for i in range(0, n):\n",
    "    ele = int(input())\n",
    "    l.append(ele) \n",
    "has33(l)"
   ]
  },
  {
   "cell_type": "code",
   "execution_count": 26,
   "id": "91143ec1",
   "metadata": {},
   "outputs": [
    {
     "name": "stdout",
     "output_type": "stream",
     "text": [
      "7\n",
      "1\n",
      "0\n",
      "2\n",
      "3\n",
      "4\n",
      "5\n",
      "6\n"
     ]
    },
    {
     "data": {
      "text/plain": [
       "False"
      ]
     },
     "execution_count": 26,
     "metadata": {},
     "output_type": "execute_result"
    }
   ],
   "source": [
    "def spy(nums): \n",
    "    for i in range(len(nums)): \n",
    "        if nums[i] == 0: \n",
    "            for j in range(i+1, len(nums)): \n",
    "                if nums[j]==0: \n",
    "                    for x in range(j+1, len(nums)): \n",
    "                        if nums[x]==7: \n",
    "                            return True \n",
    "    return False \n",
    "m=int(input()) \n",
    "res=[] \n",
    "for i in range(0, m): \n",
    "    ele = int(input()) \n",
    "    res.append(ele) \n",
    "spy(res)"
   ]
  },
  {
   "cell_type": "code",
   "execution_count": 27,
   "id": "cef09b14",
   "metadata": {},
   "outputs": [
    {
     "name": "stdout",
     "output_type": "stream",
     "text": [
      "5\n",
      "523.3333333333334\n"
     ]
    }
   ],
   "source": [
    "def volume(R): \n",
    "    v=(4/3)*3.14*R**3 \n",
    "    print(v) \n",
    "g=int(input()) \n",
    "volume(g)"
   ]
  },
  {
   "cell_type": "code",
   "execution_count": 91,
   "id": "13928b93",
   "metadata": {},
   "outputs": [
    {
     "name": "stdout",
     "output_type": "stream",
     "text": [
      "[1, 2, 4, 5, 3, 10]\n"
     ]
    }
   ],
   "source": [
    "def uni(l):\n",
    "    x=[]\n",
    "    for a in l:\n",
    "        if a not in x:\n",
    "            x.append(a)\n",
    "    return x\n",
    "print(uni([1,2,2,4,2,5,3,10,10]))"
   ]
  },
  {
   "cell_type": "code",
   "execution_count": 90,
   "id": "05b41816",
   "metadata": {},
   "outputs": [
    {
     "name": "stdout",
     "output_type": "stream",
     "text": [
      "my name eman ym\n",
      "it is palindrome\n"
     ]
    }
   ],
   "source": [
    "def palindrome(main): \n",
    "    return main==main[::-1] \n",
    "s=input() \n",
    "if palindrome(s)==True: \n",
    "    print('it is palindrome') \n",
    "else: print('it is not palindrome')"
   ]
  },
  {
   "cell_type": "code",
   "execution_count": 93,
   "id": "7abe6bec",
   "metadata": {},
   "outputs": [
    {
     "name": "stdout",
     "output_type": "stream",
     "text": [
      "2\n",
      "1\n",
      "2\n",
      "*\n",
      "**\n"
     ]
    }
   ],
   "source": [
    "def histo(nums):\n",
    "    new=[]\n",
    "    for i in range(nums):\n",
    "        new.append(\"*\")\n",
    "    print(''.join(new))\n",
    "      \n",
    "l = []\n",
    "  \n",
    "n = int(input())\n",
    "  \n",
    "for i in range(0, n):\n",
    "    ele = int(input())\n",
    "    l.append(ele) \n",
    "for j in l:\n",
    "    histo(j)"
   ]
  },
  {
   "cell_type": "code",
   "execution_count": 94,
   "id": "efd3e070",
   "metadata": {},
   "outputs": [
    {
     "name": "stdout",
     "output_type": "stream",
     "text": [
      "Hello! What is your name?KBTU\n",
      "Well, KBTU ,I am thinking of a number between 1 and 20\n",
      "Take a guess!\n",
      "12\n",
      "Too high!\n",
      "10\n",
      "Too high!\n",
      "8\n",
      "Too low\n",
      "9\n",
      "You guessed my number in 4 guesses!\n"
     ]
    }
   ],
   "source": [
    "import random\n",
    "def rand(num,num1):\n",
    "    return random.randrange(num, num1)\n",
    "name=input('Hello! What is your name?')\n",
    "\n",
    "print('Well,', name, ',I am thinking of a number between', 1, 'and', 20)\n",
    "print('Take a guess!')\n",
    "cnt=0\n",
    "mynum = int(input())\n",
    "a=rand(1, 20)\n",
    "b=len(range(1, 20))\n",
    "while cnt < b:\n",
    "    cnt+=1\n",
    "    if mynum==a:\n",
    "        print('You guessed my number in', cnt, 'guesses!')\n",
    "        break\n",
    "    if a<mynum:\n",
    "        print(\"Too high!\")\n",
    "        mynum = int(input())\n",
    "    elif a>mynum:\n",
    "        print(\"Too low\")\n",
    "        mynum = int(input())\n",
    "    \n"
   ]
  },
  {
   "cell_type": "code",
   "execution_count": null,
   "id": "d63fe9d1",
   "metadata": {},
   "outputs": [],
   "source": []
  }
 ],
 "metadata": {
  "kernelspec": {
   "display_name": "Python 3 (ipykernel)",
   "language": "python",
   "name": "python3"
  },
  "language_info": {
   "codemirror_mode": {
    "name": "ipython",
    "version": 3
   },
   "file_extension": ".py",
   "mimetype": "text/x-python",
   "name": "python",
   "nbconvert_exporter": "python",
   "pygments_lexer": "ipython3",
   "version": "3.9.13"
  }
 },
 "nbformat": 4,
 "nbformat_minor": 5
}
