{
 "cells": [
  {
   "cell_type": "code",
   "execution_count": 3,
   "id": "253bf2b5",
   "metadata": {},
   "outputs": [
    {
     "name": "stdout",
     "output_type": "stream",
     "text": [
      "hellooo\n",
      "HELLOOO\n"
     ]
    }
   ],
   "source": [
    "class InputOutString(object):\n",
    "    def __init__(st):\n",
    "        st.s = \"\"\n",
    "\n",
    "    def getString(st):\n",
    "        st.s = input()\n",
    "    \n",
    "    def printString(st):\n",
    "        print(st.s.upper())\n",
    "\n",
    "res = InputOutString()\n",
    "res.getString()\n",
    "res.printString()"
   ]
  },
  {
   "cell_type": "code",
   "execution_count": 33,
   "id": "d67d85e6",
   "metadata": {},
   "outputs": [
    {
     "data": {
      "text/plain": [
       "9"
      ]
     },
     "execution_count": 33,
     "metadata": {},
     "output_type": "execute_result"
    }
   ],
   "source": [
    "class Shape:\n",
    "    def __init__(self):\n",
    "        pass\n",
    "\n",
    "    def area(self):\n",
    "        return 0\n",
    "\n",
    "class Square(Shape):\n",
    "    def __init__(self, l):\n",
    "        Shape.__init__(self)\n",
    "        self.length = l\n",
    "\n",
    "    def area(self):\n",
    "        return self.length**2\n",
    "\n",
    "aSquare= Square(3)\n",
    "aSquare.area()\n"
   ]
  },
  {
   "cell_type": "code",
   "execution_count": 47,
   "id": "fc68f43a",
   "metadata": {},
   "outputs": [
    {
     "ename": "AttributeError",
     "evalue": "'Shape' object has no attribute 'Rectangle'",
     "output_type": "error",
     "traceback": [
      "\u001b[1;31m---------------------------------------------------------------------------\u001b[0m",
      "\u001b[1;31mAttributeError\u001b[0m                            Traceback (most recent call last)",
      "\u001b[1;32m~\\AppData\\Local\\Temp\\ipykernel_4480\\4031110127.py\u001b[0m in \u001b[0;36m<module>\u001b[1;34m\u001b[0m\n\u001b[0;32m     10\u001b[0m         \u001b[0mreturself\u001b[0m\u001b[1;33m.\u001b[0m\u001b[0mlength\u001b[0m\u001b[1;33m*\u001b[0m\u001b[0mself\u001b[0m\u001b[1;33m.\u001b[0m\u001b[0mwidth\u001b[0m\u001b[1;33m\u001b[0m\u001b[1;33m\u001b[0m\u001b[0m\n\u001b[0;32m     11\u001b[0m \u001b[0mresult\u001b[0m\u001b[1;33m=\u001b[0m\u001b[0mShape\u001b[0m\u001b[1;33m(\u001b[0m\u001b[1;36m3\u001b[0m\u001b[1;33m,\u001b[0m\u001b[1;36m5\u001b[0m\u001b[1;33m)\u001b[0m\u001b[1;33m\u001b[0m\u001b[1;33m\u001b[0m\u001b[0m\n\u001b[1;32m---> 12\u001b[1;33m \u001b[0mresult\u001b[0m\u001b[1;33m.\u001b[0m\u001b[0mRectangle\u001b[0m\u001b[1;33m(\u001b[0m\u001b[1;33m)\u001b[0m\u001b[1;33m\u001b[0m\u001b[1;33m\u001b[0m\u001b[0m\n\u001b[0m",
      "\u001b[1;31mAttributeError\u001b[0m: 'Shape' object has no attribute 'Rectangle'"
     ]
    }
   ],
   "source": [
    "class Shape(object):\n",
    "    def __init__(self,length, width):\n",
    "        self.length=length\n",
    "        self.width=width\n",
    "    def show(self):\n",
    "        print(self.length, self.width)\n",
    "        \n",
    "class Rectangle(Shape):\n",
    "    def area(self):\n",
    "        return self.length*self.width\n",
    "result=Shape(3,5)\n",
    "result.Rectangle()\n",
    "#??????????????"
   ]
  },
  {
   "cell_type": "code",
   "execution_count": 42,
   "id": "32e0bef5",
   "metadata": {},
   "outputs": [
    {
     "data": {
      "text/plain": [
       "1.0"
      ]
     },
     "execution_count": 42,
     "metadata": {},
     "output_type": "execute_result"
    }
   ],
   "source": [
    "import math\n",
    "class Point(object):\n",
    "    def __init__(self, x, y):\n",
    "        self.x = x\n",
    "        self.y = y\n",
    "\n",
    "\n",
    "    def show(self):\n",
    "        return self.x, self.y\n",
    "    def move(self,x,y):\n",
    "        self.x+=x\n",
    "        self.y+=y\n",
    "    def dist(self,pt):\n",
    "        return math.sqrt((pt.x-self.x)**2+(pt.y-self.y)**2)\n",
    "p1 = Point(2, 3)\n",
    "p2 = Point(3, 3)\n",
    "#p1.show()\n",
    "#p2.show()\n",
    "#p1.move(5,5)\n",
    "#p1.show()\n",
    "p1.dist(p2)"
   ]
  },
  {
   "cell_type": "code",
   "execution_count": 17,
   "id": "e083bce8",
   "metadata": {},
   "outputs": [
    {
     "data": {
      "text/plain": [
       "200"
      ]
     },
     "execution_count": 17,
     "metadata": {},
     "output_type": "execute_result"
    }
   ],
   "source": [
    "class Bank:\n",
    "    def __init__(self, owner , balance=0):\n",
    "        self.owner=owner\n",
    "        self.balance=balance\n",
    "    def deposit(self, dep):\n",
    "        self.balance+=dep\n",
    "        return self.balance\n",
    "    def withdraw(self, dr):\n",
    "        if dr<self.balance:\n",
    "            return self.balance-dr\n",
    "res=Bank('me')\n",
    "res.deposit(500)\n",
    "res.withdraw(300)"
   ]
  },
  {
   "cell_type": "code",
   "execution_count": 12,
   "id": "ec98abff",
   "metadata": {},
   "outputs": [
    {
     "name": "stdout",
     "output_type": "stream",
     "text": [
      "[2, 3, 5]\n"
     ]
    }
   ],
   "source": [
    "def filter_prime(a):\n",
    "    k=0\n",
    "    if a<2:\n",
    "        return False\n",
    "    for i in range(2, a // 2+1):\n",
    "        \n",
    "        if (a % i == 0):\n",
    "            k = k+1\n",
    "    if (k <= 0):\n",
    "        return True\n",
    "    else:\n",
    "        return False\n",
    "l=[1,2,3,4,5]\n",
    "print(list(filter(lambda x: filter_prime(x),l)))\n",
    "#l = []\n",
    "  \n",
    "#n = int(input())\n",
    "  \n",
    "#for i in range(0, n):\n",
    " #   ele = int(input())\n",
    "  #  l.append(ele) \n"
   ]
  },
  {
   "cell_type": "code",
   "execution_count": null,
   "id": "9d497792",
   "metadata": {},
   "outputs": [],
   "source": []
  }
 ],
 "metadata": {
  "kernelspec": {
   "display_name": "Python 3 (ipykernel)",
   "language": "python",
   "name": "python3"
  },
  "language_info": {
   "codemirror_mode": {
    "name": "ipython",
    "version": 3
   },
   "file_extension": ".py",
   "mimetype": "text/x-python",
   "name": "python",
   "nbconvert_exporter": "python",
   "pygments_lexer": "ipython3",
   "version": "3.9.13"
  }
 },
 "nbformat": 4,
 "nbformat_minor": 5
}
