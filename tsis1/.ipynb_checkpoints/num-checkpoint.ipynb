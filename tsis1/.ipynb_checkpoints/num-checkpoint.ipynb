{
 "cells": [
  {
   "cell_type": "code",
   "execution_count": 2,
   "id": "66ca9c85",
   "metadata": {},
   "outputs": [
    {
     "name": "stdout",
     "output_type": "stream",
     "text": [
      "<class 'int'> <class 'float'> <class 'float'> <class 'complex'>\n"
     ]
    }
   ],
   "source": [
    "x=10000\n",
    "y=2.99\n",
    "d=-55e3\n",
    "z=1+2j\n",
    "print(type(x),type(y), type(d), type(z))"
   ]
  },
  {
   "cell_type": "code",
   "execution_count": 4,
   "id": "bb0593ff",
   "metadata": {},
   "outputs": [
    {
     "name": "stdout",
     "output_type": "stream",
     "text": [
      "10000.0 2 (10000+0j)\n",
      "1\n"
     ]
    }
   ],
   "source": [
    "a=float(x)\n",
    "b=int(y)\n",
    "c=complex(x)\n",
    "print(a,b,c)\n",
    "print(random.randrange(1, 10))"
   ]
  },
  {
   "cell_type": "code",
   "execution_count": null,
   "id": "25374946",
   "metadata": {},
   "outputs": [],
   "source": []
  },
  {
   "cell_type": "code",
   "execution_count": null,
   "id": "80bc7641",
   "metadata": {},
   "outputs": [],
   "source": []
  }
 ],
 "metadata": {
  "kernelspec": {
   "display_name": "Python 3 (ipykernel)",
   "language": "python",
   "name": "python3"
  },
  "language_info": {
   "codemirror_mode": {
    "name": "ipython",
    "version": 3
   },
   "file_extension": ".py",
   "mimetype": "text/x-python",
   "name": "python",
   "nbconvert_exporter": "python",
   "pygments_lexer": "ipython3",
   "version": "3.9.13"
  }
 },
 "nbformat": 4,
 "nbformat_minor": 5
}
