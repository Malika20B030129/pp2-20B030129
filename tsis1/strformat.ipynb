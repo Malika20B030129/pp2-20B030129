{
 "cells": [
  {
   "cell_type": "code",
   "execution_count": 1,
   "id": "86b5e472",
   "metadata": {},
   "outputs": [
    {
     "name": "stdout",
     "output_type": "stream",
     "text": [
      "The price is 49 dollars\n"
     ]
    }
   ],
   "source": [
    "price = 49\n",
    "txt = \"The price is {} dollars\"\n",
    "print(txt.format(price))"
   ]
  },
  {
   "cell_type": "code",
   "execution_count": 2,
   "id": "f68c0015",
   "metadata": {},
   "outputs": [
    {
     "name": "stdout",
     "output_type": "stream",
     "text": [
      "The price is 21.00 dollars\n"
     ]
    }
   ],
   "source": [
    "price1 = 21\n",
    "txt1 = \"The price is {:.2f} dollars\"\n",
    "print(txt1.format(price1))"
   ]
  },
  {
   "cell_type": "code",
   "execution_count": 3,
   "id": "3ac2157b",
   "metadata": {},
   "outputs": [
    {
     "name": "stdout",
     "output_type": "stream",
     "text": [
      "I want 3 pieces of item number 567 for 49.00 dollars.\n"
     ]
    }
   ],
   "source": [
    "quantity = 3\n",
    "itemno = 567\n",
    "pr = 49\n",
    "myorder = \"I want {} pieces of item number {} for {:.2f} dollars.\"\n",
    "print(myorder.format(quantity, itemno, pr))"
   ]
  },
  {
   "cell_type": "code",
   "execution_count": 4,
   "id": "207e6f5c",
   "metadata": {},
   "outputs": [
    {
     "name": "stdout",
     "output_type": "stream",
     "text": [
      "I want 3 pieces of item number 567 for 49.00 dollars.\n"
     ]
    }
   ],
   "source": [
    "q = 3\n",
    "ino = 567\n",
    "p = 49\n",
    "myorder1 = \"I want {0} pieces of item number {1} for {2:.2f} dollars.\"\n",
    "print(myorder1.format(q, ino, p))"
   ]
  },
  {
   "cell_type": "code",
   "execution_count": 5,
   "id": "b7c7ff69",
   "metadata": {},
   "outputs": [
    {
     "name": "stdout",
     "output_type": "stream",
     "text": [
      "His name is John. John is 36 years old.\n"
     ]
    }
   ],
   "source": [
    "age = 36\n",
    "name = \"John\"\n",
    "t = \"His name is {1}. {1} is {0} years old.\"\n",
    "print(t.format(age, name))"
   ]
  },
  {
   "cell_type": "code",
   "execution_count": 6,
   "id": "b620ade8",
   "metadata": {},
   "outputs": [
    {
     "name": "stdout",
     "output_type": "stream",
     "text": [
      "I have a Ford, it is a Mustang.\n"
     ]
    }
   ],
   "source": [
    "myo = \"I have a {carname}, it is a {model}.\"\n",
    "print(myo.format(carname = \"Ford\", model = \"Mustang\"))"
   ]
  },
  {
   "cell_type": "code",
   "execution_count": null,
   "id": "bafabf31",
   "metadata": {},
   "outputs": [],
   "source": []
  }
 ],
 "metadata": {
  "kernelspec": {
   "display_name": "Python 3 (ipykernel)",
   "language": "python",
   "name": "python3"
  },
  "language_info": {
   "codemirror_mode": {
    "name": "ipython",
    "version": 3
   },
   "file_extension": ".py",
   "mimetype": "text/x-python",
   "name": "python",
   "nbconvert_exporter": "python",
   "pygments_lexer": "ipython3",
   "version": "3.9.13"
  }
 },
 "nbformat": 4,
 "nbformat_minor": 5
}
