{
 "cells": [
  {
   "cell_type": "code",
   "execution_count": 1,
   "id": "d25f481b",
   "metadata": {},
   "outputs": [
    {
     "name": "stdout",
     "output_type": "stream",
     "text": [
      "<class 'int'> <class 'float'> <class 'str'> <class 'list'> <class 'range'> <class 'dict'>\n"
     ]
    }
   ],
   "source": [
    "x=200\n",
    "y=55.5\n",
    "z='hi'\n",
    "a=['hi', 'yes', 'no']\n",
    "b=range(6)\n",
    "c={'true': 'yes', 'false': 'no'}\n",
    "print(type(x), type(y), type(z), type(a), type(b), type(c))"
   ]
  },
  {
   "cell_type": "code",
   "execution_count": null,
   "id": "50708f8a",
   "metadata": {},
   "outputs": [],
   "source": []
  }
 ],
 "metadata": {
  "kernelspec": {
   "display_name": "Python 3 (ipykernel)",
   "language": "python",
   "name": "python3"
  },
  "language_info": {
   "codemirror_mode": {
    "name": "ipython",
    "version": 3
   },
   "file_extension": ".py",
   "mimetype": "text/x-python",
   "name": "python",
   "nbconvert_exporter": "python",
   "pygments_lexer": "ipython3",
   "version": "3.9.13"
  }
 },
 "nbformat": 4,
 "nbformat_minor": 5
}
