{
 "cells": [
  {
   "cell_type": "code",
   "execution_count": 1,
   "id": "4ae97af2",
   "metadata": {},
   "outputs": [
    {
     "name": "stdout",
     "output_type": "stream",
     "text": [
      "5\n",
      "1\n",
      "2\n",
      "3\n",
      "4\n",
      "5\n",
      "120\n"
     ]
    }
   ],
   "source": [
    "import numpy\n",
    "l=[]\n",
    "n=int(input())\n",
    "for i in range(n):\n",
    "    i=int(input())\n",
    "    l.append(i)\n",
    "print(numpy.prod(l))"
   ]
  },
  {
   "cell_type": "code",
   "execution_count": 2,
   "id": "18a81d18",
   "metadata": {},
   "outputs": [
    {
     "name": "stdout",
     "output_type": "stream",
     "text": [
      "HEllo\n"
     ]
    },
    {
     "data": {
      "text/plain": [
       "(2, 3)"
      ]
     },
     "execution_count": 2,
     "metadata": {},
     "output_type": "execute_result"
    }
   ],
   "source": [
    "def up_low(s):      \n",
    "    u = sum(1 for i in s if i.isupper())\n",
    "    l = sum(1 for i in s if i.islower())\n",
    "    return u, l\n",
    "s=input()\n",
    "up_low(s)"
   ]
  },
  {
   "cell_type": "code",
   "execution_count": 3,
   "id": "5c540c90",
   "metadata": {},
   "outputs": [
    {
     "name": "stdout",
     "output_type": "stream",
     "text": [
      "helloolleh\n",
      "YES\n"
     ]
    }
   ],
   "source": [
    "def Palindrome(s):\n",
    "    x=list(s)\n",
    "    y=[]\n",
    "    y.extend(x)\n",
    "    x.reverse()\n",
    "    if(x==y):\n",
    "        return True\n",
    "    return False\n",
    "s =input()\n",
    "if Palindrome(s)==True:\n",
    "    print(\"YES\")\n",
    "else: print(\"NO\")"
   ]
  },
  {
   "cell_type": "code",
   "execution_count": 4,
   "id": "12559a2a",
   "metadata": {},
   "outputs": [
    {
     "name": "stdout",
     "output_type": "stream",
     "text": [
      "False\n"
     ]
    }
   ],
   "source": [
    "x = (True, True, False)\n",
    "result = all(x)\n",
    "print(result)"
   ]
  },
  {
   "cell_type": "code",
   "execution_count": 12,
   "id": "f4b402ef",
   "metadata": {
    "scrolled": true
   },
   "outputs": [
    {
     "name": "stdout",
     "output_type": "stream",
     "text": [
      "Sample Input:25100\n",
      "2123\n",
      "Sample output:\n",
      "Square root of 25100 after 2123 miliseconds: 158.42979517754858\n"
     ]
    }
   ],
   "source": [
    "from time import sleep\n",
    "import math\n",
    "def delay(f, ms):\n",
    "  sleep(ms / 1000)\n",
    "  return math.sqrt(f)\n",
    "n=int(input(\"Sample Input:\"))\n",
    "time=int(input())\n",
    "print(\"Sample output:\")\n",
    "print(\"Square root of\", n, \"after\", time, \"miliseconds:\", delay(n, time)) "
   ]
  },
  {
   "cell_type": "code",
   "execution_count": null,
   "id": "a4132e3f",
   "metadata": {},
   "outputs": [],
   "source": []
  }
 ],
 "metadata": {
  "kernelspec": {
   "display_name": "Python 3 (ipykernel)",
   "language": "python",
   "name": "python3"
  },
  "language_info": {
   "codemirror_mode": {
    "name": "ipython",
    "version": 3
   },
   "file_extension": ".py",
   "mimetype": "text/x-python",
   "name": "python",
   "nbconvert_exporter": "python",
   "pygments_lexer": "ipython3",
   "version": "3.9.13"
  }
 },
 "nbformat": 4,
 "nbformat_minor": 5
}
