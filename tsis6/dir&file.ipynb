{
 "cells": [
  {
   "cell_type": "code",
   "execution_count": 4,
   "id": "4678b078",
   "metadata": {},
   "outputs": [
    {
     "name": "stdout",
     "output_type": "stream",
     "text": [
      "Only directories:\n",
      "['.git', '.ipynb_checkpoints', 'tsis1', 'tsis2', 'tsis3', 'tsis4', 'tsis5', 'tsis6']\n",
      "Only files:\n",
      "['t.docx']\n",
      "All directories and files :\n",
      "['.git', '.ipynb_checkpoints', 't.docx', 'tsis1', 'tsis2', 'tsis3', 'tsis4', 'tsis5', 'tsis6']\n"
     ]
    }
   ],
   "source": [
    "import os\n",
    "path = 'C:\\\\Users\\\\kulim\\\\pp2-20B030129'\n",
    "print(\"Only directories:\")\n",
    "print([ name for name in os.listdir(path) if os.path.isdir(os.path.join(path, name)) ])\n",
    "print(\"Only files:\")\n",
    "print([ name for name in os.listdir(path) if not os.path.isdir(os.path.join(path, name)) ])\n",
    "print(\"All directories and files :\")\n",
    "print([ name for name in os.listdir(path)])"
   ]
  },
  {
   "cell_type": "code",
   "execution_count": 8,
   "id": "867edc3d",
   "metadata": {},
   "outputs": [
    {
     "name": "stdout",
     "output_type": "stream",
     "text": [
      "Exist: False\n",
      "Readable: False\n",
      "Writable: False\n",
      "Executable: False\n"
     ]
    }
   ],
   "source": [
    "import os\n",
    "print('Exist:', os.access('C:\\\\Users\\\\kulim\\\\pp2-20B030129 t.docx', os.F_OK))\n",
    "print('Readable:', os.access('C:\\\\Users\\\\kulim\\\\pp2-20B030129 t.docx', os.R_OK))\n",
    "print('Writable:', os.access('C:\\\\Users\\\\kulim\\\\pp2-20B030129 t.docx', os.W_OK))\n",
    "print('Executable:', os.access('C:\\\\Users\\\\kulim\\\\pp2-20B030129 t.docx', os.X_OK))\n"
   ]
  },
  {
   "cell_type": "code",
   "execution_count": 13,
   "id": "74f50b67",
   "metadata": {},
   "outputs": [
    {
     "name": "stdout",
     "output_type": "stream",
     "text": [
      "Test a path exists or not:\n",
      "True\n",
      "File name of the path:\n",
      "t.docx\n",
      "Dir name of the path:\n",
      "C:\\\\Users\\\\kulim\\\\pp2-20B030129\n"
     ]
    }
   ],
   "source": [
    "import os\n",
    "print(\"Test a path exists or not:\")\n",
    "path = r'C:\\\\Users\\\\kulim\\\\pp2-20B030129\\\\t.docx'\n",
    "print(os.path.exists(path))\n",
    "if os.path.exists(path)==True:\n",
    "    print(\"File name of the path:\")\n",
    "    print(os.path.basename(path))\n",
    "    print(\"Dir name of the path:\")\n",
    "    print(os.path.dirname(path))\n",
    "else:\n",
    "    print(\"There's no such path\")"
   ]
  },
  {
   "cell_type": "code",
   "execution_count": 22,
   "id": "c85f8f3c",
   "metadata": {},
   "outputs": [
    {
     "name": "stdout",
     "output_type": "stream",
     "text": [
      "3\n"
     ]
    }
   ],
   "source": [
    "f = open('new.txt', \"r\")\n",
    "line_list = f.readlines() \n",
    "print(len(line_list)) \n"
   ]
  },
  {
   "cell_type": "code",
   "execution_count": 33,
   "id": "2d69218b",
   "metadata": {},
   "outputs": [
    {
     "name": "stdout",
     "output_type": "stream",
     "text": [
      "hello\n",
      "world\n",
      "\n",
      "Done\n"
     ]
    }
   ],
   "source": [
    "l=[]\n",
    "while True:\n",
    "    s = input()\n",
    "    if s:\n",
    "        l.append(s)\n",
    "    else:\n",
    "        break\n",
    " \n",
    "with open('new.txt', 'w+') as f:\n",
    "     for i in l:\n",
    "        f.write(\"%s \" % i)\n",
    "     print(\"Done\")\n",
    "f.close()"
   ]
  },
  {
   "cell_type": "code",
   "execution_count": 14,
   "id": "7464ffec",
   "metadata": {},
   "outputs": [],
   "source": [
    "import string\n",
    "alphabet= string.ascii_lowercase\n",
    "for letter in alphabet:\n",
    "    with open(letter+\".txt\",'w') as file:\n",
    "        file.write(letter)\n",
    "        "
   ]
  },
  {
   "cell_type": "code",
   "execution_count": 16,
   "id": "f4575b90",
   "metadata": {},
   "outputs": [],
   "source": [
    "with open('t.txt','r') as firstfile, open('new.txt','a') as secondfile:\n",
    "    for line in firstfile:\n",
    "             secondfile.write(line)\n",
    "            "
   ]
  },
  {
   "cell_type": "code",
   "execution_count": 20,
   "id": "97550d36",
   "metadata": {},
   "outputs": [
    {
     "name": "stdout",
     "output_type": "stream",
     "text": [
      "C:\\\\Users\\\\kulim\\\\pp2-20B030129\\\\t.docx\n",
      "There is such file\n",
      "Done\n"
     ]
    }
   ],
   "source": [
    "import os\n",
    "file = input()\n",
    "if os.path.exists(file):\n",
    "    print(\"There is such file\")\n",
    "    os.remove(file)\n",
    "    print('Done')\n",
    "else:\n",
    "    print('There is no such file')\n"
   ]
  },
  {
   "cell_type": "code",
   "execution_count": null,
   "id": "33e9cb9e",
   "metadata": {},
   "outputs": [],
   "source": []
  }
 ],
 "metadata": {
  "kernelspec": {
   "display_name": "Python 3 (ipykernel)",
   "language": "python",
   "name": "python3"
  },
  "language_info": {
   "codemirror_mode": {
    "name": "ipython",
    "version": 3
   },
   "file_extension": ".py",
   "mimetype": "text/x-python",
   "name": "python",
   "nbconvert_exporter": "python",
   "pygments_lexer": "ipython3",
   "version": "3.9.13"
  }
 },
 "nbformat": 4,
 "nbformat_minor": 5
}
