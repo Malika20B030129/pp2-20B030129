{
 "cells": [
  {
   "cell_type": "code",
   "execution_count": 2,
   "id": "338d8865",
   "metadata": {},
   "outputs": [
    {
     "name": "stdout",
     "output_type": "stream",
     "text": [
      "ads\n",
      "Not matched!\n"
     ]
    }
   ],
   "source": [
    "import re\n",
    "def matc(txt):\n",
    "        patterns = '^a(b*)$'\n",
    "        if re.search(patterns,  txt):\n",
    "                return 'Found a match!'\n",
    "        else:\n",
    "                return('Not matched!')\n",
    "n=input()\n",
    "print(matc(n))"
   ]
  },
  {
   "cell_type": "code",
   "execution_count": 12,
   "id": "810ce8db",
   "metadata": {},
   "outputs": [
    {
     "name": "stdout",
     "output_type": "stream",
     "text": [
      "abb\n",
      "YES!\n"
     ]
    }
   ],
   "source": [
    "def ab23(txt):\n",
    "    p='ab{2,3}'\n",
    "    if re.search(p,txt):\n",
    "        return 'YES!'\n",
    "    else:\n",
    "        return \"NO!\"\n",
    "s=input()\n",
    "print(ab23(s))"
   ]
  },
  {
   "cell_type": "code",
   "execution_count": 14,
   "id": "40f19c08",
   "metadata": {},
   "outputs": [
    {
     "name": "stdout",
     "output_type": "stream",
     "text": [
      "AbC_acs\n",
      "NO!\n"
     ]
    }
   ],
   "source": [
    "def und(txt):\n",
    "    p='[a-z]+_[a-z]+$'\n",
    "    if re.search(p,txt):\n",
    "        return 'YES!'\n",
    "    else:\n",
    "        return \"NO!\"\n",
    "s=input()\n",
    "print(und(s))"
   ]
  },
  {
   "cell_type": "code",
   "execution_count": 20,
   "id": "30499a10",
   "metadata": {},
   "outputs": [
    {
     "name": "stdout",
     "output_type": "stream",
     "text": [
      "aaBC\n",
      "YES!\n"
     ]
    }
   ],
   "source": [
    "def uplow(txt):\n",
    "    p='[A-Z]+[a-z]+$'\n",
    "    if re.search(p,txt):\n",
    "        return 'YES!'\n",
    "    else:\n",
    "        return \"NO!\"\n",
    "s=input()\n",
    "print(uplow(s))"
   ]
  },
  {
   "cell_type": "code",
   "execution_count": 22,
   "id": "ca448b66",
   "metadata": {},
   "outputs": [
    {
     "name": "stdout",
     "output_type": "stream",
     "text": [
      "a12345b\n",
      "YES!\n"
     ]
    }
   ],
   "source": [
    "def anything(txt):\n",
    "    p='a.*?b$'\n",
    "    if re.search(p,txt):\n",
    "        return 'YES!'\n",
    "    else:\n",
    "        return \"NO!\"\n",
    "s=input()\n",
    "print(anything(s))"
   ]
  },
  {
   "cell_type": "code",
   "execution_count": 23,
   "id": "729df4ad",
   "metadata": {
    "scrolled": true
   },
   "outputs": [
    {
     "name": "stdout",
     "output_type": "stream",
     "text": [
      "Hello, World!\n",
      "Hello::World!\n"
     ]
    }
   ],
   "source": [
    "import re\n",
    "txt=input()\n",
    "print(re.sub(\"[ ,.]\", \":\", txt))\n"
   ]
  },
  {
   "cell_type": "code",
   "execution_count": 29,
   "id": "1a0d9d31",
   "metadata": {},
   "outputs": [
    {
     "name": "stdout",
     "output_type": "stream",
     "text": [
      "eeksforgeeks_best_for_geeks\n",
      "eeksforgeeks_best_for_geeks\n"
     ]
    }
   ],
   "source": [
    "import re\n",
    "word = input()\n",
    "pattern = r'snake'\n",
    "replace = r'camel'\n",
    "res = re.sub(pattern, replace, word)\n",
    "print(res&????????????????????????????????"
   ]
  },
  {
   "cell_type": "code",
   "execution_count": 30,
   "id": "b34d10b8",
   "metadata": {},
   "outputs": [
    {
     "name": "stdout",
     "output_type": "stream",
     "text": [
      "AbcDefG\n",
      "['Abc', 'Def', 'G']\n"
     ]
    }
   ],
   "source": [
    "text = input()\n",
    "print(re.findall('[A-Z][^A-Z]*', text))"
   ]
  },
  {
   "cell_type": "code",
   "execution_count": 31,
   "id": "f2961753",
   "metadata": {},
   "outputs": [
    {
     "name": "stdout",
     "output_type": "stream",
     "text": [
      "AbcdEfghIlk\n",
      "Abcd Efgh Ilk\n"
     ]
    }
   ],
   "source": [
    "import re\n",
    "def cap(txt):\n",
    "  return re.sub(r\"(\\w)([A-Z])\", r\"\\1 \\2\", txt)\n",
    "s1=input()\n",
    "print(cap(s1))"
   ]
  },
  {
   "cell_type": "code",
   "execution_count": null,
   "id": "a2cbead3",
   "metadata": {},
   "outputs": [],
   "source": []
  }
 ],
 "metadata": {
  "kernelspec": {
   "display_name": "Python 3 (ipykernel)",
   "language": "python",
   "name": "python3"
  },
  "language_info": {
   "codemirror_mode": {
    "name": "ipython",
    "version": 3
   },
   "file_extension": ".py",
   "mimetype": "text/x-python",
   "name": "python",
   "nbconvert_exporter": "python",
   "pygments_lexer": "ipython3",
   "version": "3.9.13"
  }
 },
 "nbformat": 4,
 "nbformat_minor": 5
}
