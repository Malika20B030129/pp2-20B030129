{
 "cells": [
  {
   "cell_type": "code",
   "execution_count": 2,
   "id": "77e87833",
   "metadata": {},
   "outputs": [
    {
     "name": "stdout",
     "output_type": "stream",
     "text": [
      "Input degree:15\n",
      "Output radian: 0.2617993877991494\n"
     ]
    }
   ],
   "source": [
    "import math\n",
    "n=int(input(\"Input degree:\"))\n",
    "print(\"Output radian:\", math.radians(n))"
   ]
  },
  {
   "cell_type": "code",
   "execution_count": 4,
   "id": "c0931ecc",
   "metadata": {},
   "outputs": [
    {
     "name": "stdout",
     "output_type": "stream",
     "text": [
      "Height:5\n",
      "Base, first value:5\n",
      "Base,second value:6\n",
      "Expected output: 27.5\n"
     ]
    }
   ],
   "source": [
    "h=int(input(\"Height:\"))\n",
    "b1=int(input(\"Base, first value:\"))\n",
    "b2=int(input(\"Base,second value:\"))\n",
    "res=((b1+b2)/2)*h\n",
    "print(\"Expected output:\", res)"
   ]
  },
  {
   "cell_type": "code",
   "execution_count": 7,
   "id": "bad31893",
   "metadata": {},
   "outputs": [
    {
     "name": "stdout",
     "output_type": "stream",
     "text": [
      "Input number of sides:4\n",
      "Input the length of a side:25\n",
      "The area of the polygon is: 624.9999999999999\n"
     ]
    }
   ],
   "source": [
    "i=int(input(\"Input number of sides:\"))\n",
    "l=(int(input(\"Input the length of a side:\")))\n",
    "area=i*(l**2)/4*math.tan(math.pi/i)\n",
    "print(\"The area of the polygon is:\", area)"
   ]
  },
  {
   "cell_type": "code",
   "execution_count": 9,
   "id": "ac66f1a7",
   "metadata": {},
   "outputs": [
    {
     "name": "stdout",
     "output_type": "stream",
     "text": [
      "Length of base:5\n",
      "Height of parallelogram:6\n",
      "Expected Output: 30\n"
     ]
    }
   ],
   "source": [
    "b=int(input(\"Length of base:\"))\n",
    "height=int(input(\"Height of parallelogram:\"))\n",
    "print(\"Expected Output:\", b*height)"
   ]
  },
  {
   "cell_type": "code",
   "execution_count": null,
   "id": "3172e5be",
   "metadata": {},
   "outputs": [],
   "source": []
  }
 ],
 "metadata": {
  "kernelspec": {
   "display_name": "Python 3 (ipykernel)",
   "language": "python",
   "name": "python3"
  },
  "language_info": {
   "codemirror_mode": {
    "name": "ipython",
    "version": 3
   },
   "file_extension": ".py",
   "mimetype": "text/x-python",
   "name": "python",
   "nbconvert_exporter": "python",
   "pygments_lexer": "ipython3",
   "version": "3.9.13"
  }
 },
 "nbformat": 4,
 "nbformat_minor": 5
}
