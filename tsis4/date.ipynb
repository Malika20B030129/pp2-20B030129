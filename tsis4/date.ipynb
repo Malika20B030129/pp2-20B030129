{
 "cells": [
  {
   "cell_type": "code",
   "execution_count": 1,
   "id": "44ad0080",
   "metadata": {},
   "outputs": [
    {
     "name": "stdout",
     "output_type": "stream",
     "text": [
      "Current Date : 2023-02-19\n",
      "5 days before Current Date : 2023-02-14\n"
     ]
    }
   ],
   "source": [
    "from datetime import date, timedelta\n",
    "res = date.today() - timedelta(5)\n",
    "print('Current Date:',date.today())\n",
    "print('5 days before Current Date:',res)\n"
   ]
  },
  {
   "cell_type": "code",
   "execution_count": 2,
   "id": "0b445404",
   "metadata": {},
   "outputs": [
    {
     "name": "stdout",
     "output_type": "stream",
     "text": [
      "Yesterday: 2023-02-18\n",
      "Today: 2023-02-19\n",
      "Tomorrow: 2023-02-20\n"
     ]
    }
   ],
   "source": [
    "from datetime import date, timedelta\n",
    "print('Yesterday:', date.today() - timedelta(1))\n",
    "print('Today:',date.today())\n",
    "print('Tomorrow:',date.today() + timedelta(1))"
   ]
  },
  {
   "cell_type": "code",
   "execution_count": 6,
   "id": "11a34064",
   "metadata": {},
   "outputs": [
    {
     "name": "stdout",
     "output_type": "stream",
     "text": [
      "2023-02-19 18:55:08\n"
     ]
    }
   ],
   "source": [
    "import datetime\n",
    "print(datetime.datetime.today().replace(microsecond=0))\n",
    "\n"
   ]
  },
  {
   "cell_type": "code",
   "execution_count": 9,
   "id": "9e49ebe2",
   "metadata": {},
   "outputs": [
    {
     "name": "stdout",
     "output_type": "stream",
     "text": [
      "842277\n"
     ]
    }
   ],
   "source": [
    "from datetime import datetime, time\n",
    "date1 = datetime.strptime('2023-02-10 01:00:00', '%Y-%m-%d %H:%M:%S')\n",
    "date2 = datetime.now()\n",
    "timedelta = date2 - date1\n",
    "print(timedelta.days * 24 * 3600 + timedelta.seconds)"
   ]
  },
  {
   "cell_type": "code",
   "execution_count": null,
   "id": "51120636",
   "metadata": {},
   "outputs": [],
   "source": []
  }
 ],
 "metadata": {
  "kernelspec": {
   "display_name": "Python 3 (ipykernel)",
   "language": "python",
   "name": "python3"
  },
  "language_info": {
   "codemirror_mode": {
    "name": "ipython",
    "version": 3
   },
   "file_extension": ".py",
   "mimetype": "text/x-python",
   "name": "python",
   "nbconvert_exporter": "python",
   "pygments_lexer": "ipython3",
   "version": "3.9.13"
  }
 },
 "nbformat": 4,
 "nbformat_minor": 5
}
