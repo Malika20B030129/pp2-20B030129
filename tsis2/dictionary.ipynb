{
 "cells": [
  {
   "cell_type": "code",
   "execution_count": 1,
   "id": "f26fb5eb",
   "metadata": {},
   "outputs": [
    {
     "name": "stdout",
     "output_type": "stream",
     "text": [
      "{'car': 'toyota', 'fruit': 'apple', 'number': 500} 3\n"
     ]
    }
   ],
   "source": [
    "dict1={'car': 'toyota', 'fruit':'apple', 'number':500}\n",
    "print(dict1,len(dict1))"
   ]
  },
  {
   "cell_type": "code",
   "execution_count": 2,
   "id": "d95399e1",
   "metadata": {},
   "outputs": [
    {
     "name": "stdout",
     "output_type": "stream",
     "text": [
      "toyota\n"
     ]
    }
   ],
   "source": [
    "print(dict1['car'])"
   ]
  },
  {
   "cell_type": "code",
   "execution_count": 3,
   "id": "a2e17437",
   "metadata": {},
   "outputs": [
    {
     "name": "stdout",
     "output_type": "stream",
     "text": [
      "{'car': 'toyota', 'fruit': 'apple', 'number': 493}\n"
     ]
    }
   ],
   "source": [
    "dict1={'car': 'toyota', 'fruit':'apple', 'number':500,'number':493}\n",
    "print(dict1)"
   ]
  },
  {
   "cell_type": "code",
   "execution_count": 4,
   "id": "f6863c25",
   "metadata": {},
   "outputs": [
    {
     "name": "stdout",
     "output_type": "stream",
     "text": [
      "{'name': 'Jack', 'age': 50, 'city': 'Almaty'}\n"
     ]
    }
   ],
   "source": [
    "ndict=dict(name='Jack', age=50, city='Almaty')\n",
    "print(ndict)"
   ]
  },
  {
   "cell_type": "code",
   "execution_count": null,
   "id": "9b34ee59",
   "metadata": {},
   "outputs": [],
   "source": []
  }
 ],
 "metadata": {
  "kernelspec": {
   "display_name": "Python 3 (ipykernel)",
   "language": "python",
   "name": "python3"
  },
  "language_info": {
   "codemirror_mode": {
    "name": "ipython",
    "version": 3
   },
   "file_extension": ".py",
   "mimetype": "text/x-python",
   "name": "python",
   "nbconvert_exporter": "python",
   "pygments_lexer": "ipython3",
   "version": "3.9.13"
  }
 },
 "nbformat": 4,
 "nbformat_minor": 5
}
