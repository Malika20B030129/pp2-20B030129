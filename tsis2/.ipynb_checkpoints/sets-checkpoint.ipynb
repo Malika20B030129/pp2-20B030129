{
 "cells": [
  {
   "cell_type": "code",
   "execution_count": 1,
   "id": "5e791318",
   "metadata": {},
   "outputs": [
    {
     "name": "stdout",
     "output_type": "stream",
     "text": [
      "{'hi', 1, 40.5}\n",
      "3 <class 'set'>\n"
     ]
    }
   ],
   "source": [
    "different={'hi', 1, 40.5}\n",
    "print(different)\n",
    "print(len(different), type(different))"
   ]
  },
  {
   "cell_type": "code",
   "execution_count": null,
   "id": "67dfa657",
   "metadata": {},
   "outputs": [],
   "source": []
  }
 ],
 "metadata": {
  "kernelspec": {
   "display_name": "Python 3 (ipykernel)",
   "language": "python",
   "name": "python3"
  },
  "language_info": {
   "codemirror_mode": {
    "name": "ipython",
    "version": 3
   },
   "file_extension": ".py",
   "mimetype": "text/x-python",
   "name": "python",
   "nbconvert_exporter": "python",
   "pygments_lexer": "ipython3",
   "version": "3.9.13"
  }
 },
 "nbformat": 4,
 "nbformat_minor": 5
}
